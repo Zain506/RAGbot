{
 "cells": [
  {
   "cell_type": "markdown",
   "id": "39da35dc",
   "metadata": {},
   "source": [
    "# Initial"
   ]
  },
  {
   "cell_type": "code",
   "execution_count": 11,
   "id": "3650fa23",
   "metadata": {},
   "outputs": [],
   "source": [
    "from transformers import AutoTokenizer, AutoModelForCausalLM, pipeline\n",
    "class Conversation:\n",
    "    \"\"\"\n",
    "    Hold conversation with language model\n",
    "    \"\"\"\n",
    "    def __init__(self, model = \"microsoft/DialoGPT-small\"):\n",
    "        # Load model directly\n",
    "\n",
    "        tokenizer = AutoTokenizer.from_pretrained(model)\n",
    "        model = AutoModelForCausalLM.from_pretrained(model)\n",
    "        self.pipe = pipeline(\n",
    "            \"text-generation\",\n",
    "            model=model,\n",
    "            tokenizer=tokenizer,\n",
    "            max_new_tokens=200\n",
    "        )\n",
    "        self.messages = []\n",
    "        return None\n",
    "    \n",
    "    def speak(self,query: str) -> list: # speak to LLM\n",
    "        self.messages.append({\"role\": \"user\", \"content\": query})\n",
    "        response = self.pipe(self.messages)\n",
    "        self.messages = response[0][\"generated_text\"]\n",
    "        return None"
   ]
  },
  {
   "cell_type": "code",
   "execution_count": 12,
   "id": "e7de909d",
   "metadata": {},
   "outputs": [
    {
     "name": "stderr",
     "output_type": "stream",
     "text": [
      "Device set to use cpu\n",
      "Setting `pad_token_id` to `eos_token_id`:50256 for open-end generation.\n"
     ]
    }
   ],
   "source": [
    "convo = Conversation()\n",
    "convo.speak(\"Hello!\")"
   ]
  },
  {
   "cell_type": "code",
   "execution_count": 13,
   "id": "91ae811c",
   "metadata": {},
   "outputs": [
    {
     "name": "stderr",
     "output_type": "stream",
     "text": [
      "Setting `pad_token_id` to `eos_token_id`:50256 for open-end generation.\n"
     ]
    }
   ],
   "source": [
    "convo.speak(\"I want to play a game\")"
   ]
  },
  {
   "cell_type": "code",
   "execution_count": 14,
   "id": "adbd5e65",
   "metadata": {},
   "outputs": [
    {
     "name": "stdout",
     "output_type": "stream",
     "text": [
      "Hello!\n",
      "Hi!\n",
      "I want to play a game\n",
      "I'm a computer\n"
     ]
    }
   ],
   "source": [
    "for message in convo.messages:\n",
    "    print(message[\"content\"])"
   ]
  }
 ],
 "metadata": {
  "kernelspec": {
   "display_name": "Python 3",
   "language": "python",
   "name": "python3"
  },
  "language_info": {
   "codemirror_mode": {
    "name": "ipython",
    "version": 3
   },
   "file_extension": ".py",
   "mimetype": "text/x-python",
   "name": "python",
   "nbconvert_exporter": "python",
   "pygments_lexer": "ipython3",
   "version": "3.12.1"
  }
 },
 "nbformat": 4,
 "nbformat_minor": 5
}
